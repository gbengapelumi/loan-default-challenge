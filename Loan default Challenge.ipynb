{
 "cells": [
  {
   "cell_type": "code",
   "execution_count": 1,
   "metadata": {
    "collapsed": true
   },
   "outputs": [],
   "source": [
    "import numpy as np \n",
    "import pandas as pd\n",
    "import matplotlib.pyplot as plt\n",
    "\n",
    "import seaborn as sns\n",
    "\n",
    "plt.style.use('classic')\n",
    "import warnings\n",
    "warnings.filterwarnings('ignore')\n",
    "%matplotlib inline\n"
   ]
  },
  {
   "cell_type": "code",
   "execution_count": 2,
   "metadata": {
    "collapsed": true
   },
   "outputs": [],
   "source": [
    "trainperf = pd.read_csv('trainperf.csv')\n",
    "traindemo = pd.read_csv('traindemographics.csv')\n",
    "trainprev = pd.read_csv('trainprevloans.csv')\n",
    "testperf = pd.read_csv('testperf.csv')\n",
    "testdemo = pd.read_csv('testdemographics.csv')\n",
    "testprev = pd.read_csv('testprevloans.csv')\n"
   ]
  },
  {
   "cell_type": "code",
   "execution_count": 3,
   "metadata": {},
   "outputs": [
    {
     "data": {
      "text/plain": [
       "((4368, 10), (18183, 12), (4346, 9))"
      ]
     },
     "execution_count": 3,
     "metadata": {},
     "output_type": "execute_result"
    }
   ],
   "source": [
    "trainperf.shape, trainprev.shape, traindemo.shape"
   ]
  },
  {
   "cell_type": "code",
   "execution_count": 4,
   "metadata": {
    "collapsed": true
   },
   "outputs": [],
   "source": [
    "trainperf.drop_duplicates(inplace=True)\n",
    "trainprev.drop_duplicates(inplace=True)\n",
    "traindemo.drop_duplicates(inplace=True)\n",
    "testperf.drop_duplicates(inplace=True)\n",
    "testprev.drop_duplicates(inplace=True)\n",
    "testdemo.drop_duplicates(inplace=True)"
   ]
  },
  {
   "cell_type": "code",
   "execution_count": 5,
   "metadata": {},
   "outputs": [
    {
     "data": {
      "text/plain": [
       "Index(['customerid', 'systemloanid', 'loannumber', 'approveddate',\n",
       "       'creationdate', 'loanamount', 'totaldue', 'termdays', 'referredby',\n",
       "       'good_bad_flag'],\n",
       "      dtype='object')"
      ]
     },
     "execution_count": 5,
     "metadata": {},
     "output_type": "execute_result"
    }
   ],
   "source": [
    "trainperf.columns"
   ]
  },
  {
   "cell_type": "code",
   "execution_count": 6,
   "metadata": {},
   "outputs": [
    {
     "data": {
      "text/plain": [
       "Index(['customerid', 'systemloanid', 'loannumber', 'approveddate',\n",
       "       'creationdate', 'loanamount', 'totaldue', 'termdays', 'closeddate',\n",
       "       'referredby', 'firstduedate', 'firstrepaiddate'],\n",
       "      dtype='object')"
      ]
     },
     "execution_count": 6,
     "metadata": {},
     "output_type": "execute_result"
    }
   ],
   "source": [
    "trainprev.columns"
   ]
  },
  {
   "cell_type": "code",
   "execution_count": 7,
   "metadata": {},
   "outputs": [
    {
     "data": {
      "text/plain": [
       "Index(['customerid', 'birthdate', 'bank_account_type', 'longitude_gps',\n",
       "       'latitude_gps', 'bank_name_clients', 'bank_branch_clients',\n",
       "       'employment_status_clients', 'level_of_education_clients'],\n",
       "      dtype='object')"
      ]
     },
     "execution_count": 7,
     "metadata": {},
     "output_type": "execute_result"
    }
   ],
   "source": [
    "traindemo.columns"
   ]
  },
  {
   "cell_type": "code",
   "execution_count": 8,
   "metadata": {
    "collapsed": true
   },
   "outputs": [],
   "source": [
    "date_columns = ['firstduedate', 'firstrepaiddate','closeddate', 'approveddate']"
   ]
  },
  {
   "cell_type": "code",
   "execution_count": 9,
   "metadata": {
    "collapsed": true
   },
   "outputs": [],
   "source": [
    "for col in date_columns:\n",
    "    trainprev[col] = pd.to_datetime(trainprev[col])\n",
    "    \n",
    "for col in date_columns:\n",
    "    testprev[col] = pd.to_datetime(testprev[col])"
   ]
  },
  {
   "cell_type": "code",
   "execution_count": 10,
   "metadata": {
    "collapsed": true
   },
   "outputs": [],
   "source": [
    "trainprev['days_lapse'] = (trainprev['firstrepaiddate'] - trainprev['firstduedate']).dt.days\n",
    "testprev['days_lapse'] = (testprev['firstrepaiddate'] - testprev['firstduedate']).dt.days\n"
   ]
  },
  {
   "cell_type": "code",
   "execution_count": 11,
   "metadata": {
    "collapsed": true
   },
   "outputs": [],
   "source": [
    "trainprev['loan_interest'] = trainprev['totaldue'] - trainprev['loanamount']\n",
    "testprev['loan_interest'] = testprev['totaldue'] - testprev['loanamount']"
   ]
  },
  {
   "cell_type": "code",
   "execution_count": 12,
   "metadata": {
    "collapsed": true
   },
   "outputs": [],
   "source": [
    "trainperf['mean_prevloan'] = trainperf['customerid'].map(trainprev.groupby('customerid').mean()['loanamount'])\n",
    "trainperf['max_prevloan'] = trainperf['customerid'].map(trainprev.groupby('customerid').max()['loanamount'])\n",
    "trainperf['min_prevloan'] = trainperf['customerid'].map(trainprev.groupby('customerid').min()['loanamount'])\n",
    "trainperf['sum_prevloan'] = trainperf['customerid'].map(trainprev.groupby('customerid').sum()['loanamount'])\n",
    "\n",
    "testperf['mean_prevloan'] = testperf['customerid'].map(testprev.groupby('customerid').mean()['loanamount'])\n",
    "testperf['max_prevloan'] = testperf['customerid'].map(testprev.groupby('customerid').max()['loanamount'])\n",
    "testperf['min_prevloan'] = testperf['customerid'].map(testprev.groupby('customerid').min()['loanamount'])\n",
    "testperf['sum_prevloan'] = testperf['customerid'].map(testprev.groupby('customerid').sum()['loanamount'])"
   ]
  },
  {
   "cell_type": "code",
   "execution_count": 13,
   "metadata": {
    "collapsed": true
   },
   "outputs": [],
   "source": [
    "trainperf['mean_days_lapse'] = trainperf['customerid'].map(trainprev.groupby('customerid').mean()['days_lapse'])\n",
    "trainperf['max_days_lapse'] = trainperf['customerid'].map(trainprev.groupby('customerid').max()['days_lapse'])\n",
    "trainperf['min_days_lapse'] = trainperf['customerid'].map(trainprev.groupby('customerid').min()['days_lapse'])\n",
    "trainperf['sum_days_lapse'] = trainperf['customerid'].map(trainprev.groupby('customerid').sum()['days_lapse'])\n",
    "\n",
    "testperf['mean_days_lapse'] = testperf['customerid'].map(testprev.groupby('customerid').mean()['days_lapse'])\n",
    "testperf['max_days_lapse'] = testperf['customerid'].map(testprev.groupby('customerid').max()['days_lapse'])\n",
    "testperf['min_days_lapse'] = testperf['customerid'].map(testprev.groupby('customerid').min()['days_lapse'])\n",
    "testperf['sum_days_lapse'] = testperf['customerid'].map(testprev.groupby('customerid').sum()['days_lapse'])"
   ]
  },
  {
   "cell_type": "code",
   "execution_count": 14,
   "metadata": {
    "collapsed": true
   },
   "outputs": [],
   "source": [
    "trainperf['mean_loan_interest'] = trainperf['customerid'].map(trainprev.groupby('customerid').mean()['loan_interest'])\n",
    "trainperf['max_loan_interest'] = trainperf['customerid'].map(trainprev.groupby('customerid').max()['loan_interest'])\n",
    "trainperf['min_loan_interest'] = trainperf['customerid'].map(trainprev.groupby('customerid').min()['loan_interest'])\n",
    "trainperf['sum_loan_interest'] = trainperf['customerid'].map(trainprev.groupby('customerid').sum()['loan_interest'])\n",
    "\n",
    "\n",
    "testperf['mean_loan_interest'] = testperf['customerid'].map(testprev.groupby('customerid').mean()['loan_interest'])\n",
    "testperf['max_loan_interest'] = testperf['customerid'].map(testprev.groupby('customerid').max()['loan_interest'])\n",
    "testperf['min_loan_interest'] = testperf['customerid'].map(testprev.groupby('customerid').min()['loan_interest'])\n",
    "testperf['sum_loan_interest'] = testperf['customerid'].map(testprev.groupby('customerid').sum()['loan_interest'])"
   ]
  },
  {
   "cell_type": "code",
   "execution_count": 15,
   "metadata": {},
   "outputs": [
    {
     "data": {
      "text/plain": [
       "customerid               0\n",
       "systemloanid             0\n",
       "loannumber               0\n",
       "approveddate             0\n",
       "creationdate             0\n",
       "loanamount               0\n",
       "totaldue                 0\n",
       "termdays                 0\n",
       "referredby            3781\n",
       "good_bad_flag            0\n",
       "mean_prevloan            9\n",
       "max_prevloan             9\n",
       "min_prevloan             9\n",
       "sum_prevloan             9\n",
       "mean_days_lapse          9\n",
       "max_days_lapse           9\n",
       "min_days_lapse           9\n",
       "sum_days_lapse           9\n",
       "mean_loan_interest       9\n",
       "max_loan_interest        9\n",
       "min_loan_interest        9\n",
       "sum_loan_interest        9\n",
       "dtype: int64"
      ]
     },
     "execution_count": 15,
     "metadata": {},
     "output_type": "execute_result"
    }
   ],
   "source": [
    "trainperf.isnull().sum()"
   ]
  },
  {
   "cell_type": "code",
   "execution_count": 16,
   "metadata": {
    "collapsed": true
   },
   "outputs": [],
   "source": [
    "trainperf.drop('referredby', axis = 1, inplace = True)\n",
    "testperf.drop('referredby', axis = 1, inplace = True)"
   ]
  },
  {
   "cell_type": "code",
   "execution_count": 17,
   "metadata": {
    "collapsed": true
   },
   "outputs": [],
   "source": [
    "trainprev.drop('referredby', axis = 1, inplace = True) #Too many missing values\n",
    "testprev.drop('referredby', axis = 1, inplace = True)"
   ]
  },
  {
   "cell_type": "code",
   "execution_count": 18,
   "metadata": {
    "collapsed": true
   },
   "outputs": [],
   "source": [
    "trainperf.fillna(0, inplace = True)\n",
    "testperf.fillna(0, inplace = True)"
   ]
  },
  {
   "cell_type": "code",
   "execution_count": 19,
   "metadata": {},
   "outputs": [
    {
     "data": {
      "text/plain": [
       "customerid         0\n",
       "systemloanid       0\n",
       "loannumber         0\n",
       "approveddate       0\n",
       "creationdate       0\n",
       "loanamount         0\n",
       "totaldue           0\n",
       "termdays           0\n",
       "closeddate         0\n",
       "firstduedate       0\n",
       "firstrepaiddate    0\n",
       "days_lapse         0\n",
       "loan_interest      0\n",
       "dtype: int64"
      ]
     },
     "execution_count": 19,
     "metadata": {},
     "output_type": "execute_result"
    }
   ],
   "source": [
    "trainprev.isnull().sum()"
   ]
  },
  {
   "cell_type": "code",
   "execution_count": 20,
   "metadata": {},
   "outputs": [
    {
     "data": {
      "text/plain": [
       "Index(['customerid', 'systemloanid', 'loannumber', 'approveddate',\n",
       "       'creationdate', 'loanamount', 'totaldue', 'termdays', 'closeddate',\n",
       "       'firstduedate', 'firstrepaiddate', 'days_lapse', 'loan_interest'],\n",
       "      dtype='object')"
      ]
     },
     "execution_count": 20,
     "metadata": {},
     "output_type": "execute_result"
    }
   ],
   "source": [
    "trainprev.columns"
   ]
  },
  {
   "cell_type": "code",
   "execution_count": 21,
   "metadata": {},
   "outputs": [
    {
     "data": {
      "text/plain": [
       "Index(['customerid', 'systemloanid', 'loannumber', 'approveddate',\n",
       "       'creationdate', 'loanamount', 'totaldue', 'termdays', 'good_bad_flag',\n",
       "       'mean_prevloan', 'max_prevloan', 'min_prevloan', 'sum_prevloan',\n",
       "       'mean_days_lapse', 'max_days_lapse', 'min_days_lapse', 'sum_days_lapse',\n",
       "       'mean_loan_interest', 'max_loan_interest', 'min_loan_interest',\n",
       "       'sum_loan_interest'],\n",
       "      dtype='object')"
      ]
     },
     "execution_count": 21,
     "metadata": {},
     "output_type": "execute_result"
    }
   ],
   "source": [
    "trainperf.columns"
   ]
  },
  {
   "cell_type": "code",
   "execution_count": 22,
   "metadata": {},
   "outputs": [
    {
     "data": {
      "text/plain": [
       "customerid            0\n",
       "systemloanid          0\n",
       "loannumber            0\n",
       "approveddate          0\n",
       "creationdate          0\n",
       "loanamount            0\n",
       "totaldue              0\n",
       "termdays              0\n",
       "good_bad_flag         0\n",
       "mean_prevloan         0\n",
       "max_prevloan          0\n",
       "min_prevloan          0\n",
       "sum_prevloan          0\n",
       "mean_days_lapse       0\n",
       "max_days_lapse        0\n",
       "min_days_lapse        0\n",
       "sum_days_lapse        0\n",
       "mean_loan_interest    0\n",
       "max_loan_interest     0\n",
       "min_loan_interest     0\n",
       "sum_loan_interest     0\n",
       "dtype: int64"
      ]
     },
     "execution_count": 22,
     "metadata": {},
     "output_type": "execute_result"
    }
   ],
   "source": [
    "trainperf.isnull().sum()"
   ]
  },
  {
   "cell_type": "code",
   "execution_count": 23,
   "metadata": {
    "collapsed": true
   },
   "outputs": [],
   "source": [
    "X = trainperf"
   ]
  },
  {
   "cell_type": "code",
   "execution_count": 24,
   "metadata": {
    "collapsed": true
   },
   "outputs": [],
   "source": [
    "X = X.drop(['customerid', 'systemloanid','approveddate','creationdate', 'good_bad_flag'], axis = 1)"
   ]
  },
  {
   "cell_type": "code",
   "execution_count": 25,
   "metadata": {},
   "outputs": [
    {
     "data": {
      "text/plain": [
       "Index(['customerid', 'systemloanid', 'loannumber', 'approveddate',\n",
       "       'creationdate', 'loanamount', 'totaldue', 'termdays', 'mean_prevloan',\n",
       "       'max_prevloan', 'min_prevloan', 'sum_prevloan', 'mean_days_lapse',\n",
       "       'max_days_lapse', 'min_days_lapse', 'sum_days_lapse',\n",
       "       'mean_loan_interest', 'max_loan_interest', 'min_loan_interest',\n",
       "       'sum_loan_interest'],\n",
       "      dtype='object')"
      ]
     },
     "execution_count": 25,
     "metadata": {},
     "output_type": "execute_result"
    }
   ],
   "source": [
    "testperf.columns"
   ]
  },
  {
   "cell_type": "code",
   "execution_count": 38,
   "metadata": {},
   "outputs": [
    {
     "data": {
      "text/plain": [
       "Index(['loannumber', 'loanamount', 'totaldue', 'termdays', 'mean_prevloan',\n",
       "       'max_prevloan', 'min_prevloan', 'sum_prevloan', 'mean_days_lapse',\n",
       "       'max_days_lapse', 'min_days_lapse', 'sum_days_lapse',\n",
       "       'mean_loan_interest', 'max_loan_interest', 'min_loan_interest',\n",
       "       'sum_loan_interest'],\n",
       "      dtype='object')"
      ]
     },
     "execution_count": 38,
     "metadata": {},
     "output_type": "execute_result"
    }
   ],
   "source": [
    "ntestperf = testperf.drop(['customerid', 'systemloanid','approveddate','creationdate'], axis = 1)\n",
    "ntestperf.columns"
   ]
  },
  {
   "cell_type": "code",
   "execution_count": 27,
   "metadata": {
    "collapsed": true
   },
   "outputs": [],
   "source": [
    "y = trainperf['good_bad_flag']"
   ]
  },
  {
   "cell_type": "code",
   "execution_count": 28,
   "metadata": {
    "collapsed": true
   },
   "outputs": [],
   "source": [
    "from sklearn.model_selection import train_test_split\n",
    "from sklearn.metrics import accuracy_score"
   ]
  },
  {
   "cell_type": "code",
   "execution_count": 29,
   "metadata": {
    "collapsed": true
   },
   "outputs": [],
   "source": [
    "# the parameter 'stratify=y' distributes the % of 1's and 0's in X_train and X_test equally\n",
    "X_train, X_test, y_train, y_test = train_test_split(X, y, test_size=0.2,stratify = y, random_state=42)"
   ]
  },
  {
   "cell_type": "code",
   "execution_count": 30,
   "metadata": {},
   "outputs": [],
   "source": [
    "from sklearn.ensemble import RandomForestClassifier, GradientBoostingClassifier,AdaBoostClassifier, ExtraTreesClassifier\n",
    "#from xgboost import XGBClassifier\n",
    "#from catboost import CatBoostClassifier\n",
    "from sklearn.linear_model import LogisticRegression\n",
    "from sklearn.neighbors import KNeighborsClassifier\n",
    "from sklearn.discriminant_analysis import LinearDiscriminantAnalysis\n",
    "from sklearn.tree import DecisionTreeClassifier\n",
    "from sklearn import metrics"
   ]
  },
  {
   "cell_type": "code",
   "execution_count": 31,
   "metadata": {},
   "outputs": [
    {
     "data": {
      "text/plain": [
       "KNeighborsClassifier(algorithm='auto', leaf_size=30, metric='minkowski',\n",
       "           metric_params=None, n_jobs=1, n_neighbors=5, p=2,\n",
       "           weights='uniform')"
      ]
     },
     "execution_count": 31,
     "metadata": {},
     "output_type": "execute_result"
    }
   ],
   "source": [
    "model=KNeighborsClassifier() \n",
    "model.fit(X_train,y_train)"
   ]
  },
  {
   "cell_type": "code",
   "execution_count": 32,
   "metadata": {},
   "outputs": [
    {
     "name": "stdout",
     "output_type": "stream",
     "text": [
      "The accuracy of the KNN is 0.766590389016\n"
     ]
    }
   ],
   "source": [
    "prediction=model.predict(X_test)\n",
    "print('The accuracy of the KNN is',metrics.accuracy_score(prediction,y_test))"
   ]
  },
  {
   "cell_type": "code",
   "execution_count": 33,
   "metadata": {},
   "outputs": [
    {
     "name": "stdout",
     "output_type": "stream",
     "text": [
      "The accuracy of the Logistic Regression is 0.786041189931\n"
     ]
    }
   ],
   "source": [
    "model = LogisticRegression()\n",
    "model.fit(X_train,y_train)\n",
    "prediction3=model.predict(X_test)\n",
    "print('The accuracy of the Logistic Regression is',metrics.accuracy_score(prediction3,y_test))"
   ]
  },
  {
   "cell_type": "code",
   "execution_count": 34,
   "metadata": {},
   "outputs": [
    {
     "name": "stdout",
     "output_type": "stream",
     "text": [
      "Lr: 0.213959 \n",
      "LDA: 0.256293 \n",
      "gbm: 0.216247 \n",
      "Decision_Tree: 0.286041 \n",
      "Adb: 0.215103 \n",
      "Extra_Tree: 0.255149 \n"
     ]
    }
   ],
   "source": [
    "seed = 7\n",
    "models = []\n",
    "models.append(('Lr', LogisticRegression()))\n",
    "models.append(('LDA', RandomForestClassifier()))\n",
    "models.append(('gbm', GradientBoostingClassifier()))\n",
    "models.append(('Decision_Tree', DecisionTreeClassifier()))\n",
    "models.append(('Adb', AdaBoostClassifier()))\n",
    "models.append(('Extra_Tree', ExtraTreesClassifier()))\n",
    "#models.append(('xgb', XGBClassifier(n_estimators = 50)))\n",
    "#models.append(('Catboost', CatBoostClassifier(silent = True)))\n",
    "\n",
    "# evaluate each model in turn\n",
    "results = []\n",
    "names = []\n",
    "for name, model in models:\n",
    "    model.fit(X_train, y_train)\n",
    "    score = 1-accuracy_score(y_test, model.predict(X_test))\n",
    "    results.append(score)\n",
    "    names.append(name)\n",
    "    msg = \"%s: %f \" % (name, score)\n",
    "    print(msg)"
   ]
  },
  {
   "cell_type": "code",
   "execution_count": 35,
   "metadata": {},
   "outputs": [
    {
     "name": "stdout",
     "output_type": "stream",
     "text": [
      "Error_metric: 0.21510297482837526 \n"
     ]
    }
   ],
   "source": [
    "Adb = AdaBoostClassifier()\n",
    "Adb.fit(X_train, y_train)\n",
    "error_metric = 1-accuracy_score(y_test, Adb.predict(X_test))\n",
    "print('Error_metric: {a} '.format(a = error_metric ))"
   ]
  },
  {
   "cell_type": "code",
   "execution_count": 36,
   "metadata": {},
   "outputs": [
    {
     "data": {
      "text/plain": [
       "<matplotlib.axes._subplots.AxesSubplot at 0x38e914a390>"
      ]
     },
     "execution_count": 36,
     "metadata": {},
     "output_type": "execute_result"
    },
    {
     "data": {
      "image/png": "[encoded data removed]",
      "text/plain": [
       "<matplotlib.figure.Figure at 0x38e8fb0080>"
      ]
     },
     "metadata": {},
     "output_type": "display_data"
    }
   ],
   "source": [
    "plt.figure(figsize=(12,5))\n",
    "feat_importances = pd.Series(Adb.feature_importances_, index = X.columns)\n",
    "feat_importances.nlargest(24).plot(kind='barh')"
   ]
  },
  {
   "cell_type": "code",
   "execution_count": 39,
   "metadata": {},
   "outputs": [],
   "source": [
    "test_pred = Adb.predict(ntestperf) #predict on the test set for submission"
   ]
  },
  {
   "cell_type": "code",
   "execution_count": 41,
   "metadata": {},
   "outputs": [],
   "source": [
    "dframe = {'customerid': testperf['customerid'], 'Good_Bad_flag': test_pred}\n",
    "sub = pd.DataFrame(data=dframe)\n",
    "sub = sub[['customerid', 'Good_Bad_flag']]"
   ]
  },
  {
   "cell_type": "code",
   "execution_count": 42,
   "metadata": {
    "collapsed": true
   },
   "outputs": [],
   "source": [
    "sub.to_csv('submission.csv', index = False)"
   ]
  },
  {
   "cell_type": "code",
   "execution_count": null,
   "metadata": {
    "collapsed": true
   },
   "outputs": [],
   "source": []
  }
 ],
 "metadata": {
  "kernelspec": {
   "display_name": "Python 3",
   "language": "python",
   "name": "python3"
  },
  "language_info": {
   "codemirror_mode": {
    "name": "ipython",
    "version": 3
   },
   "file_extension": ".py",
   "mimetype": "text/x-python",
   "name": "python",
   "nbconvert_exporter": "python",
   "pygments_lexer": "ipython3",
   "version": "3.6.1"
  }
 },
 "nbformat": 4,
 "nbformat_minor": 2
}
